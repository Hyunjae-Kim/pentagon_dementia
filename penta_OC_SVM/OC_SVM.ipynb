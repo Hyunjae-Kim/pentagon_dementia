{
 "cells": [
  {
   "cell_type": "code",
   "execution_count": 1,
   "metadata": {},
   "outputs": [],
   "source": [
    "import numpy as np\n",
    "import matplotlib.pyplot as plt\n",
    "from sklearn import svm\n",
    "from sklearn.metrics import roc_curve, auc\n",
    "\n",
    "import torch\n",
    "import torch.utils as utils\n",
    "from torchvision import datasets, transforms"
   ]
  },
  {
   "cell_type": "code",
   "execution_count": 2,
   "metadata": {},
   "outputs": [
    {
     "name": "stdout",
     "output_type": "stream",
     "text": [
      "(631, 4096) (25, 4096) (31, 4096)\n"
     ]
    }
   ],
   "source": [
    "dataset_name = 'train_data9'\n",
    "train_set = datasets.ImageFolder(root='dataset/preproced_data/%s/'%dataset_name,\n",
    "                       transform=transforms.Compose([\n",
    "#                              transforms.RandomHorizontalFlip(p=0.5),\n",
    "##                             transforms.RandomVerticalFlip(p=0.5),\n",
    "##                             transforms.RandomRotation(90),\n",
    "                         transforms.Grayscale(),\n",
    "                         transforms.Resize((64,64)),\n",
    "                         transforms.ToTensor(),\n",
    "                         transforms.Normalize((0.5, 0.5, 0.5), (0.5, 0.5, 0.5))]))\n",
    "train_loader = utils.data.DataLoader(dataset=train_set, batch_size=1000,shuffle=True)\n",
    "\n",
    "for idx, (data, target) in enumerate(train_loader):\n",
    "    x_train = data.cpu().numpy()\n",
    "\n",
    "score_num = 1\n",
    "dir_name = ['abnormal', 'normal']\n",
    "test_set = datasets.ImageFolder(root='dataset/dongdong2/%s/'%dir_name[score_num],\n",
    "                           transform=transforms.Compose([\n",
    "#                              transforms.RandomHorizontalFlip(p=0.5),\n",
    "                             transforms.Grayscale(),\n",
    "                             transforms.Resize((64,64)),\n",
    "                             transforms.ToTensor(),\n",
    "                             transforms.Normalize((0.5, 0.5, 0.5), (0.5, 0.5, 0.5))]))\n",
    "test_loader = utils.data.DataLoader(dataset=test_set,batch_size=100,shuffle=False)\n",
    "\n",
    "for idx, (data, target) in enumerate(test_loader):\n",
    "    x_test = data.cpu().numpy()\n",
    "    \n",
    "score_num = 0    \n",
    "test_set = datasets.ImageFolder(root='dataset/dongdong2/%s/'%dir_name[score_num],\n",
    "                           transform=transforms.Compose([\n",
    "#                              transforms.RandomHorizontalFlip(p=0.5),\n",
    "                             transforms.Grayscale(),\n",
    "                             transforms.Resize((64,64)),\n",
    "                             transforms.ToTensor(),\n",
    "                             transforms.Normalize((0.5, 0.5, 0.5), (0.5, 0.5, 0.5))]))\n",
    "test_loader = utils.data.DataLoader(dataset=test_set,batch_size=100,shuffle=False)\n",
    "\n",
    "for idx, (data, target) in enumerate(test_loader):\n",
    "    x_out = data.cpu().numpy()\n",
    "\n",
    "x_train = np.reshape(x_train, (len(x_train),-1))\n",
    "x_test = np.reshape(x_test, (len(x_test), -1))\n",
    "x_out = np.reshape(x_out, (len(x_out),-1))\n",
    "print(np.shape(x_train), np.shape(x_test), np.shape(x_out))"
   ]
  },
  {
   "cell_type": "code",
   "execution_count": 3,
   "metadata": {},
   "outputs": [
    {
     "name": "stdout",
     "output_type": "stream",
     "text": [
      "0.0 0.0967741935483871\n",
      "0.0 0.16129032258064516\n",
      "0.0 0.41935483870967744\n",
      "0.12 0.5161290322580645\n",
      "0.2 0.7096774193548387\n",
      "0.28 0.8064516129032258\n",
      "0.28 0.8064516129032258\n",
      "0.32 0.8064516129032258\n",
      "0.48 0.8387096774193549\n",
      "0.48 0.8709677419354839\n",
      "0.68 0.9032258064516129\n",
      "0.72 0.9354838709677419\n",
      "0.88 0.967741935483871\n",
      "0.88 1.0\n",
      "0.88 1.0\n",
      "0.96 1.0\n",
      "0.96 1.0\n",
      "0.96 1.0\n",
      "0.96 1.0\n",
      "1.0 1.0\n"
     ]
    },
    {
     "data": {
      "image/png": "[encoded data removed]",
      "text/plain": [
       "<Figure size 432x288 with 1 Axes>"
      ]
     },
     "metadata": {
      "needs_background": "light"
     },
     "output_type": "display_data"
    }
   ],
   "source": [
    "fpr_list = []\n",
    "tpr_list = []\n",
    "for k in range(1,21):\n",
    "    clf = svm.OneClassSVM(nu=0.05*k, kernel='rbf', gamma='auto')\n",
    "    clf.fit(x_train)\n",
    "    y_pred_train = clf.predict(x_train)\n",
    "    y_pred_test = clf.predict(x_test)\n",
    "    y_pred_out = clf.predict(x_out)\n",
    "    \n",
    "    label = np.append(np.zeros(len(y_pred_test)),np.ones(len(y_pred_out)))\n",
    "    y_hat = np.append(np.float32(y_pred_test!=1), np.float32(y_pred_out!=1))\n",
    "    \n",
    "    fpr, tpr, threshold = roc_curve(label, y_hat, drop_intermediate=False)\n",
    "    print(fpr[1], tpr[1])\n",
    "    fpr_list.append(fpr[1])\n",
    "    tpr_list.append(tpr[1])\n",
    "\n",
    "auc_result = auc(np.array(fpr_list), np.array(tpr_list))\n",
    "plt.plot(fpr_list, tpr_list, 'ro-')\n",
    "plt.xlabel('1-Specificity  (FPR)', fontsize=12)\n",
    "plt.ylabel('Sensitivity  (TPR)', fontsize=12)\n",
    "plt.plot([0,1],[0,1],'k--')\n",
    "plt.title('AUC : %.4f'%auc_result, fontsize=14)\n",
    "plt.savefig('ROC_plot.png')\n",
    "plt.show()"
   ]
  },
  {
   "cell_type": "code",
   "execution_count": null,
   "metadata": {},
   "outputs": [],
   "source": []
  }
 ],
 "metadata": {
  "kernelspec": {
   "display_name": "Python 3",
   "language": "python",
   "name": "python3"
  },
  "language_info": {
   "codemirror_mode": {
    "name": "ipython",
    "version": 3
   },
   "file_extension": ".py",
   "mimetype": "text/x-python",
   "name": "python",
   "nbconvert_exporter": "python",
   "pygments_lexer": "ipython3",
   "version": "3.7.4"
  }
 },
 "nbformat": 4,
 "nbformat_minor": 2
}
