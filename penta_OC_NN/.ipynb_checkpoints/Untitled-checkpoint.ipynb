{
 "cells": [
  {
   "cell_type": "code",
   "execution_count": 23,
   "metadata": {},
   "outputs": [],
   "source": [
    "import os\n",
    "import numpy as np\n",
    "import matplotlib.pyplot as plt\n",
    "from sklearn.metrics import roc_curve, auc"
   ]
  },
  {
   "cell_type": "code",
   "execution_count": 22,
   "metadata": {},
   "outputs": [
    {
     "name": "stdout",
     "output_type": "stream",
     "text": [
      "[[0.         0.        ]\n",
      " [0.90322581 1.        ]\n",
      " [0.90322581 1.        ]\n",
      " [0.87096774 1.        ]\n",
      " [0.83870968 1.        ]\n",
      " [0.83870968 1.        ]\n",
      " [0.80645161 1.        ]\n",
      " [0.77419355 1.        ]\n",
      " [0.70967742 1.        ]\n",
      " [0.70967742 1.        ]\n",
      " [0.67741935 1.        ]\n",
      " [0.67741935 1.        ]\n",
      " [0.67741935 1.        ]\n",
      " [0.67741935 1.        ]\n",
      " [0.67741935 1.        ]\n",
      " [0.67741935 1.        ]\n",
      " [0.58064516 0.96      ]\n",
      " [0.48387097 0.92      ]\n",
      " [0.48387097 0.92      ]\n",
      " [0.64516129 1.        ]\n",
      " [0.41935484 0.92      ]\n",
      " [0.64516129 1.        ]\n",
      " [0.74193548 1.        ]\n",
      " [0.48387097 0.92      ]\n",
      " [0.48387097 0.92      ]\n",
      " [0.48387097 0.92      ]\n",
      " [0.41935484 0.88      ]\n",
      " [0.67741935 1.        ]\n",
      " [0.4516129  0.92      ]\n",
      " [0.74193548 1.        ]\n",
      " [0.41935484 0.92      ]]\n"
     ]
    },
    {
     "data": {
      "image/png": "[encoded data removed]",
      "text/plain": [
       "<Figure size 432x288 with 1 Axes>"
      ]
     },
     "metadata": {
      "needs_background": "light"
     },
     "output_type": "display_data"
    }
   ],
   "source": [
    "roc_list = np.array([[0, 0]])\n",
    "\n",
    "for k in range(20):\n",
    "    nu = 0.05*k+0.05\n",
    "    a = np.load('roc_npy/nu%.2f_hid32.npy'%nu)\n",
    "    max_idx = np.argmax(np.sqrt(np.sum((a-np.array([1,0]))**2, axis=1)))\n",
    "    roc_list = np.vstack((roc_list, a[max_idx]))\n",
    "    \n",
    "for k in range(10):\n",
    "    nu = 0.005*k+0.955\n",
    "    a = np.load('roc_npy/nu%.3f_hid32.npy'%nu)\n",
    "    max_idx = np.argmax(np.sqrt(np.sum((a-np.array([1,0]))**2, axis=1)))\n",
    "    roc_list = np.vstack((roc_list, a[max_idx]))\n",
    "\n",
    "for k in range(10):\n",
    "    nu = 0.0005*k+0.9955\n",
    "    a = np.load('roc_npy/nu%.4f_hid32.npy'%nu)\n",
    "    max_idx = np.argmax(np.sqrt(np.sum((a-np.array([1,0]))**2, axis=1)))\n",
    "    roc_list = np.vstack((roc_list, a[max_idx]))\n",
    "    \n",
    "print(np.shape(roc_list), roc_list)\n",
    "plt.plot(roc_list[:,0],roc_list[:,1], '*')\n",
    "plt.show()"
   ]
  }
 ],
 "metadata": {
  "kernelspec": {
   "display_name": "Python 3",
   "language": "python",
   "name": "python3"
  },
  "language_info": {
   "codemirror_mode": {
    "name": "ipython",
    "version": 3
   },
   "file_extension": ".py",
   "mimetype": "text/x-python",
   "name": "python",
   "nbconvert_exporter": "python",
   "pygments_lexer": "ipython3",
   "version": "3.7.4"
  }
 },
 "nbformat": 4,
 "nbformat_minor": 2
}
