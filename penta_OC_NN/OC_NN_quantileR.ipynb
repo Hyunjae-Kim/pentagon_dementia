{
 "cells": [
  {
   "cell_type": "code",
   "execution_count": 2,
   "metadata": {},
   "outputs": [],
   "source": [
    "import numpy as np\n",
    "import matplotlib.pyplot as plt\n",
    "from OC_NN_model2 import Model\n",
    "from sklearn import svm\n",
    "from sklearn.metrics import roc_curve, auc\n",
    "\n",
    "import torch\n",
    "import torch.nn as nn\n",
    "import torch.utils as utils\n",
    "\n",
    "from torchvision import datasets, transforms"
   ]
  },
  {
   "cell_type": "code",
   "execution_count": 3,
   "metadata": {},
   "outputs": [],
   "source": [
    "def cal_AUC(sensitivity, specificity):\n",
    "    wid = (1-specificity)[:-1]-(1-specificity)[1:]\n",
    "    auc = np.sum(sensitivity[1:]*wid)\n",
    "    return auc\n",
    "\n",
    "def get_fpr_tpr(normal_pred, abnormal_pred, r):\n",
    "    label = np.append(np.ones(len(normal_pred)), np.zeros(len(abnormal_pred)))\n",
    "    y_hat = np.append(np.float32(normal_pred>r), np.float32(abnormal_pred>r))\n",
    "    \n",
    "    fpr, tpr, threshold = roc_curve(label, y_hat, drop_intermediate=False)\n",
    "    return fpr, tpr"
   ]
  },
  {
   "cell_type": "code",
   "execution_count": 4,
   "metadata": {},
   "outputs": [
    {
     "name": "stdout",
     "output_type": "stream",
     "text": [
      "torch.Size([631, 4096]) torch.Size([25, 4096]) torch.Size([31, 4096])\n"
     ]
    }
   ],
   "source": [
    "device = torch.device('cuda' if torch.cuda.is_available() else 'cpu')\n",
    "\n",
    "dataset_name = 'train_data9'\n",
    "train_set = datasets.ImageFolder(root='dataset/preproced_data/%s/'%dataset_name,\n",
    "                       transform=transforms.Compose([\n",
    "#                              transforms.RandomHorizontalFlip(p=0.5),\n",
    "                         transforms.Grayscale(),\n",
    "                         transforms.Resize((64,64)),\n",
    "                         transforms.ToTensor(),\n",
    "                         transforms.Normalize((0.5, 0.5, 0.5), (0.5, 0.5, 0.5))]))\n",
    "train_loader = utils.data.DataLoader(dataset=train_set, batch_size=1000,shuffle=True)\n",
    "\n",
    "for idx, (data, target) in enumerate(train_loader):\n",
    "    train_x = data.cpu().numpy()\n",
    "\n",
    "score_num = 1\n",
    "dir_name = ['abnormal', 'normal']\n",
    "test_set = datasets.ImageFolder(root='dataset/dongdong2/%s/'%dir_name[score_num],\n",
    "                           transform=transforms.Compose([\n",
    "#                              transforms.RandomHorizontalFlip(p=0.5),\n",
    "                             transforms.Grayscale(),\n",
    "                             transforms.Resize((64,64)),\n",
    "                             transforms.ToTensor(),\n",
    "                             transforms.Normalize((0.5, 0.5, 0.5), (0.5, 0.5, 0.5))]))\n",
    "test_loader = utils.data.DataLoader(dataset=test_set,batch_size=100,shuffle=False)\n",
    "\n",
    "for idx, (data, target) in enumerate(test_loader):\n",
    "    test_nm = data.cpu().numpy()\n",
    "    \n",
    "score_num = 0    \n",
    "test_set = datasets.ImageFolder(root='dataset/dongdong2/%s/'%dir_name[score_num],\n",
    "                           transform=transforms.Compose([\n",
    "#                              transforms.RandomHorizontalFlip(p=0.5),\n",
    "                             transforms.Grayscale(),\n",
    "                             transforms.Resize((64,64)),\n",
    "                             transforms.ToTensor(),\n",
    "                             transforms.Normalize((0.5, 0.5, 0.5), (0.5, 0.5, 0.5))]))\n",
    "test_loader = utils.data.DataLoader(dataset=test_set,batch_size=100,shuffle=False)\n",
    "\n",
    "for idx, (data, target) in enumerate(test_loader):\n",
    "    test_ab = data.cpu().numpy()\n",
    "\n",
    "train_x = np.reshape(train_x, (len(train_x),-1))\n",
    "test_nm = np.reshape(test_nm, (len(test_nm), -1))\n",
    "test_ab = np.reshape(test_ab, (len(test_ab),-1))\n",
    "\n",
    "train_x = torch.Tensor(train_x).to(device)\n",
    "test_nm = torch.Tensor(test_nm).to(device)\n",
    "test_ab = torch.Tensor(test_ab).to(device)\n",
    "\n",
    "print(np.shape(train_x), np.shape(test_nm), np.shape(test_ab))"
   ]
  },
  {
   "cell_type": "code",
   "execution_count": 10,
   "metadata": {},
   "outputs": [
    {
     "name": "stdout",
     "output_type": "stream",
     "text": [
      "(99, 2)\n"
     ]
    }
   ],
   "source": [
    "np.random.seed(37)\n",
    "torch.manual_seed(37)\n",
    "torch.cuda.manual_seed_all(37)\n",
    "torch.backends.cudnn.deterministic = True\n",
    "\n",
    "nu = 0.05\n",
    "r = 1\n",
    "learning_rate = 0.00005\n",
    "hidden_size = 32\n",
    "model = nn.DataParallel(Model(train_x.size()[-1], hidden_size)).to(device)\n",
    "optimizer = torch.optim.Adam(model.parameters(), lr= learning_rate)\n",
    "\n",
    "mb_div = 1\n",
    "mb_idx = int(len(train_x)/mb_div)\n",
    "s = np.arange(len(train_x))\n",
    "\n",
    "fpr_tpr_list = []\n",
    "for i in range(1000):\n",
    "    np.random.shuffle(s)\n",
    "    train_x = train_x[s]\n",
    "    \n",
    "    model.train()\n",
    "    for mb in range(mb_div):\n",
    "        d_train_x = train_x[mb*mb_idx:(mb+1)*mb_idx]\n",
    "        \n",
    "        optimizer.zero_grad()\n",
    "        output, loss = model(d_train_x, r=r, nu=nu)\n",
    "        loss = torch.mean(loss)\n",
    "        loss.backward()\n",
    "        optimizer.step()\n",
    "        \n",
    "        output = output.cpu().detach().numpy()\n",
    "        r = np.quantile(output, nu)\n",
    "        \n",
    "    if i %10==0 and i!=0:\n",
    "        model.eval()\n",
    "        output, _ = model(train_x, r=r, nu=nu)\n",
    "        output_nm, _ = model(test_nm, r=r, nu=nu)\n",
    "        output_ab, _ = model(test_ab, r=r, nu=nu)\n",
    "        \n",
    "        output = output.cpu().detach().numpy()\n",
    "        output_nm = output_nm.cpu().detach().numpy()\n",
    "        output_ab = output_ab.cpu().detach().numpy()\n",
    "        \n",
    "        fpr, tpr = get_fpr_tpr(output_nm, output_ab, r)\n",
    "        fpr_tpr_list.append([fpr[1],tpr[1]])\n",
    "        \n",
    "print(np.shape(fpr_tpr_list))\n",
    "np.save('roc_npy/nu%.2f_hid%d.npy'%(nu, hidden_size), fpr_tpr_list)"
   ]
  },
  {
   "cell_type": "code",
   "execution_count": null,
   "metadata": {},
   "outputs": [],
   "source": []
  }
 ],
 "metadata": {
  "kernelspec": {
   "display_name": "Python 3",
   "language": "python",
   "name": "python3"
  },
  "language_info": {
   "codemirror_mode": {
    "name": "ipython",
    "version": 3
   },
   "file_extension": ".py",
   "mimetype": "text/x-python",
   "name": "python",
   "nbconvert_exporter": "python",
   "pygments_lexer": "ipython3",
   "version": "3.7.4"
  }
 },
 "nbformat": 4,
 "nbformat_minor": 2
}
